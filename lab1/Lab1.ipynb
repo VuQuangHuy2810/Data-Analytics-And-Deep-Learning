{
 "cells": [
  {
   "cell_type": "code",
   "execution_count": null,
   "metadata": {},
   "outputs": [],
   "source": [
    "import pandas as pd\n",
    "# 1. Tải dữ liệu từ file CSV\n",
    "file_path = 'dulieuxettuyendaihoc.csv'\n",
    "data = pd.read_csv(file_path)"
   ]
  },
  {
   "cell_type": "code",
   "execution_count": null,
   "metadata": {},
   "outputs": [],
   "source": [
    "# 2. Xác định và phân loại dữ liệu định tính và định lượng\n",
    "qualitative_vars = ['GT', 'DT', 'KV', 'KT']\n",
    "quantitative_vars = [\n",
    "    'T1', 'L1', 'H1', 'S1', 'V1', 'X1', 'D1', 'N1',\n",
    "    'T2', 'L2', 'H2', 'S2', 'V2', 'X2', 'D2', 'N2',\n",
    "    'T6', 'L6', 'H6', 'S6', 'V6', 'X6', 'D6', 'N6',\n",
    "    'DH1', 'DH2', 'DH3'\n",
    "]\n"
   ]
  },
  {
   "cell_type": "code",
   "execution_count": null,
   "metadata": {},
   "outputs": [
    {
     "name": "stdout",
     "output_type": "stream",
     "text": [
      "10 dòng đầu tiên:\n",
      "   STT   T1   L1   H1   S1   V1   X1   D1   N1   T2  ...   X6   D6   N6  GT  \\\n",
      "0    1  7.2  7.3  6.3  7.3  7.0  7.9  7.3  5.5  8.4  ...  6.6  7.6  5.9   F   \n",
      "1    2  5.4  3.9  3.9  4.0  5.4  5.4  5.3  2.8  6.3  ...  6.6  6.1  4.4   M   \n",
      "2    3  5.6  6.8  7.2  7.5  4.3  7.4  5.8  3.2  5.0  ...  7.9  8.1  4.6   M   \n",
      "3    4  6.6  6.4  5.3  6.9  5.4  7.3  6.4  5.8  5.1  ...  7.1  7.3  7.4   M   \n",
      "4    5  6.0  5.0  6.0  7.3  6.5  7.7  7.9  6.1  5.4  ...  6.1  7.5  7.2   M   \n",
      "5    6  9.3  7.6  7.9  8.6  7.0  7.3  7.7  7.9  9.6  ...  5.7  8.0  7.8   M   \n",
      "6    7  2.8  3.9  5.5  6.9  5.0  7.3  4.6  5.2  4.4  ...  6.6  6.0  6.0   F   \n",
      "7    8  8.3  6.0  7.6  5.1  7.5  4.7  5.8  7.2  6.7  ...  7.1  6.8  7.0   F   \n",
      "8    9  6.5  6.3  7.6  6.0  5.5  7.1  6.3  5.0  7.3  ...  9.1  7.9  6.1   F   \n",
      "9   10  7.3  5.9  4.7  7.1  6.7  7.9  6.7  7.7  8.0  ...  6.4  6.1  7.8   F   \n",
      "\n",
      "   DT   KV   DH1   DH2   DH3  KT  \n",
      "0 NaN  2NT  3.25  3.25  4.50  A1  \n",
      "1 NaN    1  6.00  4.00  3.50   C  \n",
      "2 NaN    1  5.00  6.75  4.00   C  \n",
      "3 NaN    1  4.25  4.25  5.25  D1  \n",
      "4 NaN  2NT  4.25  4.50  5.00   A  \n",
      "5 NaN    1  1.50  4.00  6.00  D1  \n",
      "6 NaN    2  6.50  6.75  5.25   C  \n",
      "7 NaN    2  3.75  4.50  4.25  D1  \n",
      "8 NaN    1  3.50  3.50  6.75  D1  \n",
      "9 NaN    1  4.00  4.75  5.50  D1  \n",
      "\n",
      "[10 rows x 56 columns]\n"
     ]
    }
   ],
   "source": [
    "# 3. In ra 10 dòng đầu tiên\n",
    "print(\"10 dòng đầu tiên:\")\n",
    "print(data.head(10))"
   ]
  },
  {
   "cell_type": "code",
   "execution_count": 9,
   "metadata": {},
   "outputs": [
    {
     "name": "stdout",
     "output_type": "stream",
     "text": [
      "10 dòng cuối cùng:\n",
      "    STT   T1   L1   H1   S1   V1   X1   D1   N1   T2  ...   X6   D6   N6  GT  \\\n",
      "90   91  8.1  7.7  9.1  8.5  6.1  8.6  8.8  7.3  8.8  ...  8.3  8.7  7.8   M   \n",
      "91   92  7.8  6.5  6.7  5.4  6.2  4.8  5.9  4.4  8.9  ...  7.2  7.4  7.0   M   \n",
      "92   93  5.0  6.6  6.5  7.2  5.8  6.7  6.4  6.0  6.8  ...  5.9  6.7  5.8   M   \n",
      "93   94  5.2  5.2  6.8  7.9  6.6  8.9  7.6  5.3  6.8  ...  8.7  7.8  5.0   M   \n",
      "94   95  5.8  5.9  7.6  6.1  5.3  8.1  6.1  5.0  6.4  ...  7.3  6.8  5.3   M   \n",
      "95   96  8.6  6.9  7.4  8.8  7.6  5.8  7.3  5.7  8.9  ...  6.3  6.1  6.2   F   \n",
      "96   97  3.7  5.4  6.0  5.1  5.5  3.9  6.1  4.4  4.1  ...  7.9  7.5  4.4   F   \n",
      "97   98  8.8  5.5  7.4  7.7  6.2  7.3  8.1  4.5  9.5  ...  9.6  8.4  5.8   M   \n",
      "98   99  2.7  1.8  3.4  5.3  4.5  7.9  4.9  3.8  2.8  ...  6.6  5.2  5.9   M   \n",
      "99  100  4.1  5.2  4.9  5.3  5.5  5.4  7.2  5.4  4.4  ...  5.6  6.6  5.8   M   \n",
      "\n",
      "    DT   KV   DH1   DH2   DH3  KT  \n",
      "90 NaN    2  6.25  4.00  6.50   A  \n",
      "91 NaN  2NT  4.75  4.75  4.50   A  \n",
      "92 NaN    1  3.25  5.25  4.25   A  \n",
      "93 NaN    1  3.50  4.25  5.00   A  \n",
      "94 NaN    1  4.25  2.50  4.75   A  \n",
      "95 NaN    1  5.25  1.50  6.25   C  \n",
      "96 NaN    1  5.25  3.75  4.75   C  \n",
      "97 NaN  2NT  7.00  8.00  4.00   C  \n",
      "98 NaN    1  5.00  3.50  5.50   C  \n",
      "99 NaN  2NT  5.25  2.50  4.25   C  \n",
      "\n",
      "[10 rows x 56 columns]\n"
     ]
    }
   ],
   "source": [
    "# 3. In ra 10 dòng cuối cùng\n",
    "print(\"10 dòng cuối cùng:\")\n",
    "print(data.tail(10))\n"
   ]
  },
  {
   "cell_type": "code",
   "execution_count": 10,
   "metadata": {},
   "outputs": [
    {
     "name": "stdout",
     "output_type": "stream",
     "text": [
      "Số lượng dữ liệu thiếu ở cột Dân tộc: 97\n"
     ]
    }
   ],
   "source": [
    "missing_data = data['DT'].isnull().sum()\n",
    "print(f\"Số lượng dữ liệu thiếu ở cột Dân tộc: {missing_data}\")"
   ]
  },
  {
   "cell_type": "code",
   "execution_count": 16,
   "metadata": {},
   "outputs": [],
   "source": [
    "# Hiệu chỉnh dữ liệu thiếu bằng cách điền giá trị 0\n",
    "data['DT'] = data['DT'].fillna(0)\n"
   ]
  },
  {
   "cell_type": "code",
   "execution_count": 17,
   "metadata": {},
   "outputs": [
    {
     "name": "stdout",
     "output_type": "stream",
     "text": [
      "Số lượng dữ liệu thiếu ở cột Dân tộc sau khi hiệu chỉnh: 0\n"
     ]
    }
   ],
   "source": [
    "# Kiểm tra lại dữ liệu sau khi hiệu chỉnh\n",
    "missing_data_after = data['DT'].isnull().sum()\n",
    "print(f\"Số lượng dữ liệu thiếu ở cột Dân tộc sau khi hiệu chỉnh: {missing_data_after}\")"
   ]
  },
  {
   "cell_type": "code",
   "execution_count": 18,
   "metadata": {},
   "outputs": [],
   "source": [
    "# Thống kê và xử lý dữ liệu thiếu cho các biến điểm số\n",
    "for col in quantitative_vars:\n",
    "    missing = data[col].isnull().sum()\n",
    "    if missing > 0:\n",
    "        mean_value = data[col].mean()\n",
    "        data[col].fillna(mean_value, inplace=True)\n",
    "        print(f\"Số lượng dữ liệu thiếu ở cột {col}: {missing}, đã điền giá trị trung bình: {mean_value}\")"
   ]
  },
  {
   "cell_type": "code",
   "execution_count": 19,
   "metadata": {},
   "outputs": [],
   "source": [
    "# Tạo các biến TBM1, TBM2, TBM3\n",
    "data['TBM1'] = (data['T1']*2 + data['L1'] + data['H1'] + data['S1'] + data['V1']*2 + data['X1'] + data['D1'] + data['N1']) / 10\n",
    "data['TBM2'] = (data['T2']*2 + data['L2'] + data['H2'] + data['S2'] + data['V2']*2 + data['X2'] + data['D2'] + data['N2']) / 10\n",
    "data['TBM3'] = (data['T6']*2 + data['L6'] + data['H6'] + data['S6'] + data['V6']*2 + data['X6'] + data['D6'] + data['N6']) / 10"
   ]
  },
  {
   "cell_type": "code",
   "execution_count": 20,
   "metadata": {},
   "outputs": [],
   "source": [
    "# Tạo các biến xếp loại XL1, XL2 và XL3\n",
    "def xep_loai(tbm):\n",
    "    if tbm < 5.0:\n",
    "        return 'Y'\n",
    "    elif 5.0 <= tbm < 6.5:\n",
    "        return 'TB'\n",
    "    elif 6.5 <= tbm < 8.0:\n",
    "        return 'K'\n",
    "    elif 8.0 <= tbm < 9.0:\n",
    "        return 'G'\n",
    "    else:\n",
    "        return 'XS'\n",
    "\n",
    "data['XL1'] = data['TBM1'].apply(xep_loai)\n",
    "data['XL2'] = data['TBM2'].apply(xep_loai)\n",
    "data['XL3'] = data['TBM3'].apply(xep_loai)"
   ]
  },
  {
   "cell_type": "code",
   "execution_count": 21,
   "metadata": {},
   "outputs": [],
   "source": [
    "# Tạo các biến US_TBM1, US_TBM2 và US_TBM3\n",
    "def min_max_normalization(series):\n",
    "    return (series - series.min()) / (series.max() - series.min()) * 4\n",
    "\n",
    "data['US_TBM1'] = min_max_normalization(data['TBM1'])\n",
    "data['US_TBM2'] = min_max_normalization(data['TBM2'])\n",
    "data['US_TBM3'] = min_max_normalization(data['TBM3'])"
   ]
  },
  {
   "cell_type": "code",
   "execution_count": 22,
   "metadata": {},
   "outputs": [],
   "source": [
    "# Tạo biến kết quả xét tuyển KQXT\n",
    "def ket_qua_xet_tuyen(row):\n",
    "    if row['KT'] in ['A', 'A1']:\n",
    "        score = (row['DH1']*2 + row['DH2'] + row['DH3']) / 4\n",
    "    elif row['KT'] == 'B':\n",
    "        score = (row['DH1'] + row['DH2']*2 + row['DH3']) / 4\n",
    "    else:\n",
    "        score = (row['DH1'] + row['DH2'] + row['DH3']) / 3\n",
    "    return 1 if score >= 5.0 else 0\n",
    "\n",
    "data['KQXT'] = data.apply(ket_qua_xet_tuyen, axis=1)"
   ]
  }
 ],
 "metadata": {
  "kernelspec": {
   "display_name": "Python 3",
   "language": "python",
   "name": "python3"
  },
  "language_info": {
   "codemirror_mode": {
    "name": "ipython",
    "version": 3
   },
   "file_extension": ".py",
   "mimetype": "text/x-python",
   "name": "python",
   "nbconvert_exporter": "python",
   "pygments_lexer": "ipython3",
   "version": "3.9.6"
  }
 },
 "nbformat": 4,
 "nbformat_minor": 2
}
